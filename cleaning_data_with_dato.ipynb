{
 "cells": [
  {
   "cell_type": "code",
   "execution_count": 1,
   "metadata": {
    "collapsed": true
   },
   "outputs": [],
   "source": [
    "import os \n",
    "import graphlab as gl"
   ]
  },
  {
   "cell_type": "code",
   "execution_count": 2,
   "metadata": {
    "collapsed": false
   },
   "outputs": [
    {
     "name": "stderr",
     "output_type": "stream",
     "text": [
      "[INFO] This non-commercial license of GraphLab Create is assigned to matthew.krey@flatironschool.com and will expire on December 14, 2016. For commercial licensing options, visit https://dato.com/buy/.\n",
      "\n",
      "[INFO] Start server at: ipc:///tmp/graphlab_server-98274 - Server binary: /Users/matthewkrey/anaconda2/envs/dato-env/lib/python2.7/site-packages/graphlab/unity_server - Server log: /tmp/graphlab_server_1453589500.log\n",
      "[INFO] GraphLab Server Version: 1.8\n"
     ]
    },
    {
     "name": "stdout",
     "output_type": "stream",
     "text": [
      "PROGRESS: Downloading http://s3.amazonaws.com/dato-datasets/tag_lists/statistics_topics.csv to /var/tmp/graphlab-matthewkrey/98274/c3542e71-3588-4ad2-b243-be08d588f3c7.csv\n",
      "PROGRESS: Unable to parse line \"Generalized additive model for location, scale and shape\"\n",
      "PROGRESS: Unable to parse line \"Lies, damned lies, and statistics\"\n",
      "PROGRESS: 2 lines failed to parse correctly\n",
      "PROGRESS: Finished parsing file http://s3.amazonaws.com/dato-datasets/tag_lists/statistics_topics.csv\n",
      "PROGRESS: Parsing completed. Parsed 100 lines in 0.023869 secs.\n",
      "------------------------------------------------------\n",
      "Inferred types from first line of file as \n",
      "column_type_hints=[str]\n",
      "If parsing fails due to incorrect types, you can correct\n",
      "the inferred type list above and pass it to read_csv in\n",
      "the column_type_hints argument\n",
      "------------------------------------------------------\n",
      "PROGRESS: Unable to parse line \"Generalized additive model for location, scale and shape\"\n",
      "PROGRESS: Unable to parse line \"Lies, damned lies, and statistics\"\n",
      "PROGRESS: 2 lines failed to parse correctly\n",
      "PROGRESS: Finished parsing file http://s3.amazonaws.com/dato-datasets/tag_lists/statistics_topics.csv\n",
      "PROGRESS: Parsing completed. Parsed 2735 lines in 0.009445 secs.\n"
     ]
    }
   ],
   "source": [
    "# Read & Save data locally to avoid repeated downloads. \n",
    "if os.path.exists('statistics_topics.csv'):\n",
    "    stats_topics = gl.SFrame.read_csv('data/statistics_topics.csv', header=False)\n",
    "else:\n",
    "    stats_topics = gl.SFrame.read_csv('http://s3.amazonaws.com/dato-datasets/tag_lists/statistics_topics.csv', \n",
    "                                      header=False)\n",
    "    stats_topics.save('data/statistics_topics.csv', format='csv')\n",
    "    "
   ]
  },
  {
   "cell_type": "code",
   "execution_count": 3,
   "metadata": {
    "collapsed": false
   },
   "outputs": [
    {
     "data": {
      "text/html": [
       "<div style=\"max-height:1000px;max-width:1500px;overflow:auto;\"><table frame=\"box\" rules=\"cols\">\n",
       "    <tr>\n",
       "        <th style=\"padding-left: 1em; padding-right: 1em; text-align: center\">tag</th>\n",
       "    </tr>\n",
       "    <tr>\n",
       "        <td style=\"padding-left: 1em; padding-right: 1em; text-align: center; vertical-align: top\">z statistic</td>\n",
       "    </tr>\n",
       "    <tr>\n",
       "        <td style=\"padding-left: 1em; padding-right: 1em; text-align: center; vertical-align: top\">Z-test</td>\n",
       "    </tr>\n",
       "    <tr>\n",
       "        <td style=\"padding-left: 1em; padding-right: 1em; text-align: center; vertical-align: top\">Z-transform</td>\n",
       "    </tr>\n",
       "    <tr>\n",
       "        <td style=\"padding-left: 1em; padding-right: 1em; text-align: center; vertical-align: top\">Zakai equation</td>\n",
       "    </tr>\n",
       "    <tr>\n",
       "        <td style=\"padding-left: 1em; padding-right: 1em; text-align: center; vertical-align: top\">Zelen's design</td>\n",
       "    </tr>\n",
       "    <tr>\n",
       "        <td style=\"padding-left: 1em; padding-right: 1em; text-align: center; vertical-align: top\">Zero–one law</td>\n",
       "    </tr>\n",
       "    <tr>\n",
       "        <td style=\"padding-left: 1em; padding-right: 1em; text-align: center; vertical-align: top\">Zeta distribution</td>\n",
       "    </tr>\n",
       "    <tr>\n",
       "        <td style=\"padding-left: 1em; padding-right: 1em; text-align: center; vertical-align: top\">Ziggurat algorithm</td>\n",
       "    </tr>\n",
       "    <tr>\n",
       "        <td style=\"padding-left: 1em; padding-right: 1em; text-align: center; vertical-align: top\">Zipf–Mandelbrot law</td>\n",
       "    </tr>\n",
       "    <tr>\n",
       "        <td style=\"padding-left: 1em; padding-right: 1em; text-align: center; vertical-align: top\">Zipf's law</td>\n",
       "    </tr>\n",
       "</table>\n",
       "[10 rows x 1 columns]<br/>\n",
       "</div>"
      ],
      "text/plain": [
       "Columns:\n",
       "\ttag\tstr\n",
       "\n",
       "Rows: 10\n",
       "\n",
       "Data:\n",
       "+---------------------+\n",
       "|         tag         |\n",
       "+---------------------+\n",
       "|     z statistic     |\n",
       "|        Z-test       |\n",
       "|     Z-transform     |\n",
       "|    Zakai equation   |\n",
       "|    Zelen's design   |\n",
       "|     Zero–one law    |\n",
       "|  Zeta distribution  |\n",
       "|  Ziggurat algorithm |\n",
       "| Zipf–Mandelbrot law |\n",
       "|      Zipf's law     |\n",
       "+---------------------+\n",
       "[10 rows x 1 columns]"
      ]
     },
     "execution_count": 3,
     "metadata": {},
     "output_type": "execute_result"
    }
   ],
   "source": [
    "# See README for details and more info on these stats topics \n",
    "stats_topics = stats_topics.rename({'X1': 'tag'})\n",
    "stats_topics.tail(10)"
   ]
  },
  {
   "cell_type": "code",
   "execution_count": 4,
   "metadata": {
    "collapsed": false
   },
   "outputs": [
    {
     "name": "stdout",
     "output_type": "stream",
     "text": [
      "PROGRESS: Starting brute force nearest neighbors model training.\n"
     ]
    }
   ],
   "source": [
    "# Create Autotagger model. See README for details on Autotagger\n",
    "model = gl.autotagger.create(stats_topics)"
   ]
  },
  {
   "cell_type": "code",
   "execution_count": 5,
   "metadata": {
    "collapsed": false
   },
   "outputs": [
    {
     "data": {
      "text/plain": [
       "['distance',\n",
       " 'verbose',\n",
       " 'num_features',\n",
       " 'tag_name',\n",
       " 'training_time',\n",
       " 'num_examples',\n",
       " 'features']"
      ]
     },
     "execution_count": 5,
     "metadata": {},
     "output_type": "execute_result"
    }
   ],
   "source": [
    "model.list_fields()"
   ]
  },
  {
   "cell_type": "code",
   "execution_count": 6,
   "metadata": {
    "collapsed": true
   },
   "outputs": [],
   "source": [
    "# Run to find results of Autotagger model\n",
    "model.tag?"
   ]
  },
  {
   "cell_type": "code",
   "execution_count": 7,
   "metadata": {
    "collapsed": false
   },
   "outputs": [
    {
     "name": "stdout",
     "output_type": "stream",
     "text": [
      "PROGRESS: Downloading http://s3.amazonaws.com/dato-datasets/stats_overflow_clean/dir_archive.ini to /var/tmp/graphlab-matthewkrey/98274/4fc0cfa4-b263-4ffc-b545-99016a16e817.ini\n",
      "PROGRESS: Downloading http://s3.amazonaws.com/dato-datasets/stats_overflow_clean/objects.bin to /var/tmp/graphlab-matthewkrey/98274/e4eaa6fd-e863-4989-a714-a23463f36947.bin\n",
      "PROGRESS: Downloading http://s3.amazonaws.com/dato-datasets/stats_overflow_clean/m_ee1cef21c977f86a.frame_idx to /var/tmp/graphlab-matthewkrey/98274/ee5a8942-1769-4d9c-adeb-691325353707.frame_idx\n",
      "PROGRESS: Downloading http://s3.amazonaws.com/dato-datasets/stats_overflow_clean/m_ee1cef21c977f86a.sidx to /var/tmp/graphlab-matthewkrey/98274/6c29c1b7-6a6b-4c66-be4a-7704fd9e724f.sidx\n",
      "PROGRESS: Downloading http://s3.amazonaws.com/dato-datasets/stats_overflow_clean/m_ee1cef21c977f86a.0000 to /var/tmp/graphlab-matthewkrey/98274/c24f090e-c078-40b6-9f36-02f81b0893a4.0000\n",
      "PROGRESS: Downloading http://s3.amazonaws.com/dato-datasets/stats_overflow_clean/m_ee1cef21c977f86a.0001 to /var/tmp/graphlab-matthewkrey/98274/6ccba9f1-bf27-4eb0-a029-20bb31bd69b8.0001\n",
      "PROGRESS: Downloading http://s3.amazonaws.com/dato-datasets/stats_overflow_clean/m_ee1cef21c977f86a.0002 to /var/tmp/graphlab-matthewkrey/98274/d1a51e57-269a-4321-a20f-c8c736db53c3.0002\n",
      "PROGRESS: Downloading http://s3.amazonaws.com/dato-datasets/stats_overflow_clean/m_ee1cef21c977f86a.0003 to /var/tmp/graphlab-matthewkrey/98274/c7d67dc0-72e6-4bbd-aa7b-dd6825ea62e9.0003\n",
      "PROGRESS: Downloading http://s3.amazonaws.com/dato-datasets/stats_overflow_clean/m_ee1cef21c977f86a.0004 to /var/tmp/graphlab-matthewkrey/98274/b81f2edd-04e6-4a74-bd43-a3010ac082a9.0004\n",
      "PROGRESS: Downloading http://s3.amazonaws.com/dato-datasets/stats_overflow_clean/m_ee1cef21c977f86a.0005 to /var/tmp/graphlab-matthewkrey/98274/5ea230c3-b966-44c1-bf17-032b29a27ee6.0005\n",
      "PROGRESS: Downloading http://s3.amazonaws.com/dato-datasets/stats_overflow_clean/m_ee1cef21c977f86a.0006 to /var/tmp/graphlab-matthewkrey/98274/2cdc19dc-bd66-47ad-819e-1bad02a5ef51.0006\n",
      "PROGRESS: Downloading http://s3.amazonaws.com/dato-datasets/stats_overflow_clean/m_ee1cef21c977f86a.0007 to /var/tmp/graphlab-matthewkrey/98274/168c0bd8-8a50-4238-87b1-7336c1071521.0007\n"
     ]
    }
   ],
   "source": [
    "# Read in document data \n",
    "if os.path.exists('stats_overflow_clean'):\n",
    "    posts = gl.SFrame('stats_overflow_clean')\n",
    "else:\n",
    "    posts = gl.SFrame('http://s3.amazonaws.com/dato-datasets/stats_overflow_clean')\n",
    "    posts.save('data/stats_overflow_clean')"
   ]
  },
  {
   "cell_type": "code",
   "execution_count": 8,
   "metadata": {
    "collapsed": false
   },
   "outputs": [
    {
     "name": "stdout",
     "output_type": "stream",
     "text": [
      "Number of posts: 11077\n"
     ]
    },
    {
     "data": {
      "text/html": [
       "<div style=\"max-height:1000px;max-width:1500px;overflow:auto;\"><table frame=\"box\" rules=\"cols\">\n",
       "    <tr>\n",
       "        <th style=\"padding-left: 1em; padding-right: 1em; text-align: center\">Body</th>\n",
       "        <th style=\"padding-left: 1em; padding-right: 1em; text-align: center\">Title</th>\n",
       "        <th style=\"padding-left: 1em; padding-right: 1em; text-align: center\">PostTypeId</th>\n",
       "        <th style=\"padding-left: 1em; padding-right: 1em; text-align: center\">Tags</th>\n",
       "    </tr>\n",
       "    <tr>\n",
       "        <td style=\"padding-left: 1em; padding-right: 1em; text-align: center; vertical-align: top\">This grew too long for a<br>comment, but I think ...</td>\n",
       "        <td style=\"padding-left: 1em; padding-right: 1em; text-align: center; vertical-align: top\">None</td>\n",
       "        <td style=\"padding-left: 1em; padding-right: 1em; text-align: center; vertical-align: top\">2</td>\n",
       "        <td style=\"padding-left: 1em; padding-right: 1em; text-align: center; vertical-align: top\">None</td>\n",
       "    </tr>\n",
       "    <tr>\n",
       "        <td style=\"padding-left: 1em; padding-right: 1em; text-align: center; vertical-align: top\">Assume a classification<br>problem where there are ...</td>\n",
       "        <td style=\"padding-left: 1em; padding-right: 1em; text-align: center; vertical-align: top\">Detecting a consistent<br>pattern in a dataset via ...</td>\n",
       "        <td style=\"padding-left: 1em; padding-right: 1em; text-align: center; vertical-align: top\">1</td>\n",
       "        <td style=\"padding-left: 1em; padding-right: 1em; text-align: center; vertical-align: top\">&lt;classification&gt;&lt;cross-<br>validation&gt;&lt;decision- ...</td>\n",
       "    </tr>\n",
       "    <tr>\n",
       "        <td style=\"padding-left: 1em; padding-right: 1em; text-align: center; vertical-align: top\">My goal is to create a<br>formula that can give an ...</td>\n",
       "        <td style=\"padding-left: 1em; padding-right: 1em; text-align: center; vertical-align: top\">How to project video<br>viewcount based on ...</td>\n",
       "        <td style=\"padding-left: 1em; padding-right: 1em; text-align: center; vertical-align: top\">1</td>\n",
       "        <td style=\"padding-left: 1em; padding-right: 1em; text-align: center; vertical-align: top\">&lt;summary-statistics&gt;&lt;medi<br>an&gt;&lt;eviews&gt; ...</td>\n",
       "    </tr>\n",
       "    <tr>\n",
       "        <td style=\"padding-left: 1em; padding-right: 1em; text-align: center; vertical-align: top\">As a practical answer to<br>the real questions yo ...</td>\n",
       "        <td style=\"padding-left: 1em; padding-right: 1em; text-align: center; vertical-align: top\">None</td>\n",
       "        <td style=\"padding-left: 1em; padding-right: 1em; text-align: center; vertical-align: top\">2</td>\n",
       "        <td style=\"padding-left: 1em; padding-right: 1em; text-align: center; vertical-align: top\">None</td>\n",
       "    </tr>\n",
       "    <tr>\n",
       "        <td style=\"padding-left: 1em; padding-right: 1em; text-align: center; vertical-align: top\">Decision trees are<br>notoriously &lt;strong&gt;u ...</td>\n",
       "        <td style=\"padding-left: 1em; padding-right: 1em; text-align: center; vertical-align: top\">None</td>\n",
       "        <td style=\"padding-left: 1em; padding-right: 1em; text-align: center; vertical-align: top\">2</td>\n",
       "        <td style=\"padding-left: 1em; padding-right: 1em; text-align: center; vertical-align: top\">None</td>\n",
       "    </tr>\n",
       "</table>\n",
       "[5 rows x 4 columns]<br/>\n",
       "</div>"
      ],
      "text/plain": [
       "Columns:\n",
       "\tBody\tstr\n",
       "\tTitle\tstr\n",
       "\tPostTypeId\tstr\n",
       "\tTags\tstr\n",
       "\n",
       "Rows: 5\n",
       "\n",
       "Data:\n",
       "+-------------------------------+-------------------------------+------------+\n",
       "|              Body             |             Title             | PostTypeId |\n",
       "+-------------------------------+-------------------------------+------------+\n",
       "| This grew too long for a c... |              None             |     2      |\n",
       "| Assume a classification pr... | Detecting a consistent pat... |     1      |\n",
       "| My goal is to create a for... | How to project video viewc... |     1      |\n",
       "| As a practical answer to t... |              None             |     2      |\n",
       "| Decision trees are notorio... |              None             |     2      |\n",
       "+-------------------------------+-------------------------------+------------+\n",
       "+-------------------------------+\n",
       "|              Tags             |\n",
       "+-------------------------------+\n",
       "|              None             |\n",
       "| <classification><cross-val... |\n",
       "| <summary-statistics><media... |\n",
       "|              None             |\n",
       "|              None             |\n",
       "+-------------------------------+\n",
       "[5 rows x 4 columns]"
      ]
     },
     "execution_count": 8,
     "metadata": {},
     "output_type": "execute_result"
    }
   ],
   "source": [
    "print \"Number of posts:\", posts.num_rows()\n",
    "posts[['Body', 'Title', 'PostTypeId', 'Tags']].tail(5)"
   ]
  },
  {
   "cell_type": "code",
   "execution_count": 10,
   "metadata": {
    "collapsed": false
   },
   "outputs": [],
   "source": [
    "posts['doc'] = posts['Title'] + ' ' + posts['Body']"
   ]
  },
  {
   "cell_type": "code",
   "execution_count": 11,
   "metadata": {
    "collapsed": false
   },
   "outputs": [
    {
     "name": "stdout",
     "output_type": "stream",
     "text": [
      "PROGRESS: Starting pairwise querying.\n",
      "PROGRESS: +--------------+---------+-------------+--------------+\n",
      "PROGRESS: | Query points | # Pairs | % Complete. | Elapsed Time |\n",
      "PROGRESS: +--------------+---------+-------------+--------------+\n",
      "PROGRESS: | 0            | 692     | 0.00228834  | 35.515ms     |\n",
      "PROGRESS: | 4153         | 1.1e+07 | 37.4944     | 1.05s        |\n",
      "PROGRESS: | 8612         | 2.4e+07 | 77.7524     | 2.04s        |\n",
      "PROGRESS: | Done         |         | 100         | 2.59s        |\n",
      "PROGRESS: +--------------+---------+-------------+--------------+\n"
     ]
    }
   ],
   "source": [
    "# Query Autotagger Model\n",
    "tags = model.tag(posts, query_name='doc', k=5, similarity_threshold=0.1)"
   ]
  },
  {
   "cell_type": "code",
   "execution_count": 12,
   "metadata": {
    "collapsed": false
   },
   "outputs": [
    {
     "name": "stdout",
     "output_type": "stream",
     "text": [
      "+--------+-----------------------------------------+-----------------------------------------+----------------+\n",
      "| doc_id |                   doc                   |                   tag                   |     score      |\n",
      "+--------+-----------------------------------------+-----------------------------------------+----------------+\n",
      "|   13   | neural network output layer for bina... |          Binary classification          | 0.15503875969  |\n",
      "|   13   | neural network output layer for bina... |        Artificial neural network        | 0.107913669065 |\n",
      "|   13   | neural network output layer for bina... |         One-class classification        | 0.101449275362 |\n",
      "|   13   | neural network output layer for bina... |              Neural network             | 0.100775193798 |\n",
      "|   13   | neural network output layer for bina... |        Multiclass classification        | 0.10071942446  |\n",
      "|   37   | Negative predictions for binomial pr... |        Negative predictive value        | 0.104712041885 |\n",
      "|   55   | Estimating entropy of multidimension... |           Dimension reduction           | 0.101123595506 |\n",
      "|   80   | Does the sequence satisfy WLLN? Coul... |           Law of large numbers          | 0.197916666667 |\n",
      "|   80   | Does the sequence satisfy WLLN? Coul... | Independent and identically distribu... | 0.186046511628 |\n",
      "|   80   | Does the sequence satisfy WLLN? Coul... |     Convergence of random variables     | 0.177570093458 |\n",
      "+--------+-----------------------------------------+-----------------------------------------+----------------+\n",
      "[1355 rows x 4 columns]\n",
      "\n"
     ]
    }
   ],
   "source": [
    "# Print query results\n",
    "tags.print_rows(10, max_row_width=110, max_column_width=40)"
   ]
  },
  {
   "cell_type": "code",
   "execution_count": 20,
   "metadata": {
    "collapsed": false
   },
   "outputs": [
    {
     "name": "stdout",
     "output_type": "stream",
     "text": [
      "PROGRESS: Downloading http://s3.amazonaws.com/dato-datasets/febrl_synthetic/febrl_F_org_5000.csv to /var/tmp/graphlab-matthewkrey/98274/e18d271e-733d-43f0-a56f-6115d789de98.csv\n",
      "PROGRESS: Finished parsing file http://s3.amazonaws.com/dato-datasets/febrl_synthetic/febrl_F_org_5000.csv\n",
      "PROGRESS: Parsing completed. Parsed 100 lines in 0.034027 secs.\n",
      "PROGRESS: Finished parsing file http://s3.amazonaws.com/dato-datasets/febrl_synthetic/febrl_F_org_5000.csv\n",
      "PROGRESS: Parsing completed. Parsed 3000 lines in 0.016802 secs.\n"
     ]
    }
   ],
   "source": [
    "# Record linkage of house listings using hypothetical real estate data \n",
    "col_types = {'street_number': str, 'postcode': str}\n",
    "address_features = ['street_number', 'address_1', 'suburb', 'state', 'postcode']\n",
    "\n",
    "if os.path.exists('febrl_F_org_5000.csv'):\n",
    "    post_address = gl.SFrame.read_csv('data/febrl_F_org_5000.csv', column_type_hints=col_types)\n",
    "else:\n",
    "    url = 'http://s3.amazonaws.com/dato-datasets/febrl_synthetic/febrl_F_org_5000.csv'\n",
    "    post_address = gl.SFrame.read_csv(url, column_type_hints=col_types)\n",
    "    post_address.save('data/febrl_F_org_5000.csv')"
   ]
  },
  {
   "cell_type": "code",
   "execution_count": 21,
   "metadata": {
    "collapsed": false
   },
   "outputs": [
    {
     "name": "stdout",
     "output_type": "stream",
     "text": [
      "+---------------+---------------------+---------------+-------+----------+\n",
      "| street_number |      address_1      |     suburb    | state | postcode |\n",
      "+---------------+---------------------+---------------+-------+----------+\n",
      "|       95      |     galway place    |    st marys   |       |   2681   |\n",
      "|       12      |    burnie street    |   wycheproof  |  nsw  |   2234   |\n",
      "|       16      | macrobertson street |    branxton   |  qld  |   3073   |\n",
      "|      170      |    bonrook street   | brighton east |  nsw  |   3087   |\n",
      "|       32      |   proserpine court  |   helensvale  |  qld  |   2067   |\n",
      "+---------------+---------------------+---------------+-------+----------+\n",
      "[3000 rows x 5 columns]\n",
      "\n"
     ]
    }
   ],
   "source": [
    "# Print address_features from dataset \n",
    "post_address = post_address[address_features]\n",
    "post_address.print_rows(5)"
   ]
  },
  {
   "cell_type": "code",
   "execution_count": 22,
   "metadata": {
    "collapsed": false
   },
   "outputs": [
    {
     "name": "stdout",
     "output_type": "stream",
     "text": [
      "PROGRESS: Starting brute force nearest neighbors model training.\n",
      "Class                               : RecordLinker\n",
      "\n",
      "Schema\n",
      "------\n",
      "Number of examples                  : 3000\n",
      "Number of feature columns           : 5\n",
      "Number of distance components       : 1\n",
      "Method                              : brute_force\n",
      "\n",
      "Training\n",
      "--------\n",
      "Total training time (seconds)       : 0.4197\n",
      "\n"
     ]
    }
   ],
   "source": [
    "# Create record linker model. See README for details on record linker model\n",
    "model = gl.record_linker.create(post_address, distance='jaccard')\n",
    "model.summary()"
   ]
  },
  {
   "cell_type": "code",
   "execution_count": 23,
   "metadata": {
    "collapsed": false
   },
   "outputs": [
    {
     "data": {
      "text/plain": [
       "['distance',\n",
       " 'verbose',\n",
       " 'num_features',\n",
       " 'num_distance_components',\n",
       " 'training_time',\n",
       " 'num_examples',\n",
       " 'method',\n",
       " 'features']"
      ]
     },
     "execution_count": 23,
     "metadata": {},
     "output_type": "execute_result"
    }
   ],
   "source": [
    "# List model fields\n",
    "model.list_fields()"
   ]
  },
  {
   "cell_type": "code",
   "execution_count": 24,
   "metadata": {
    "collapsed": false
   },
   "outputs": [
    {
     "name": "stdout",
     "output_type": "stream",
     "text": [
      "PROGRESS: Downloading http://s3.amazonaws.com/dato-datasets/febrl_synthetic/febrl_F_dup_5000.csv to /var/tmp/graphlab-matthewkrey/98274/63cecc12-60f4-453e-9a1d-8b81fc8830a2.csv\n",
      "PROGRESS: Finished parsing file http://s3.amazonaws.com/dato-datasets/febrl_synthetic/febrl_F_dup_5000.csv\n",
      "PROGRESS: Parsing completed. Parsed 100 lines in 0.027403 secs.\n",
      "PROGRESS: Finished parsing file http://s3.amazonaws.com/dato-datasets/febrl_synthetic/febrl_F_dup_5000.csv\n",
      "PROGRESS: Parsing completed. Parsed 2000 lines in 0.013885 secs.\n"
     ]
    }
   ],
   "source": [
    "# Read query data \n",
    "if os.path.exists('febrl_F_dup_5000.csv'):\n",
    "    agent_listings = gl.SFrame.read_csv('data/febrl_F_dup_5000.csv', column_type_hints=col_types)\n",
    "else:\n",
    "    url = 'http://s3.amazonaws.com/dato-datasets/febrl_synthetic/febrl_F_dup_5000.csv'\n",
    "    agent_listings = gl.SFrame.read_csv(url, column_type_hints=col_types)\n",
    "    agent_listings.save('data/febrl_F_dup_5000.csv')"
   ]
  },
  {
   "cell_type": "code",
   "execution_count": 25,
   "metadata": {
    "collapsed": true
   },
   "outputs": [],
   "source": [
    "# Query the model\n",
    "model.link?"
   ]
  },
  {
   "cell_type": "code",
   "execution_count": 26,
   "metadata": {
    "collapsed": false
   },
   "outputs": [
    {
     "name": "stdout",
     "output_type": "stream",
     "text": [
      "PROGRESS: Starting pairwise querying.\n",
      "PROGRESS: +--------------+---------+-------------+--------------+\n",
      "PROGRESS: | Query points | # Pairs | % Complete. | Elapsed Time |\n",
      "PROGRESS: +--------------+---------+-------------+--------------+\n",
      "PROGRESS: | 0            | 2000    | 0.0333333   | 4.664ms      |\n",
      "PROGRESS: | Done         |         | 100         | 260.995ms    |\n",
      "PROGRESS: +--------------+---------+-------------+--------------+\n"
     ]
    },
    {
     "data": {
      "text/html": [
       "<div style=\"max-height:1000px;max-width:1500px;overflow:auto;\"><table frame=\"box\" rules=\"cols\">\n",
       "    <tr>\n",
       "        <th style=\"padding-left: 1em; padding-right: 1em; text-align: center\">query_label</th>\n",
       "        <th style=\"padding-left: 1em; padding-right: 1em; text-align: center\">reference_label</th>\n",
       "        <th style=\"padding-left: 1em; padding-right: 1em; text-align: center\">distance</th>\n",
       "        <th style=\"padding-left: 1em; padding-right: 1em; text-align: center\">rank</th>\n",
       "    </tr>\n",
       "    <tr>\n",
       "        <td style=\"padding-left: 1em; padding-right: 1em; text-align: center; vertical-align: top\">1</td>\n",
       "        <td style=\"padding-left: 1em; padding-right: 1em; text-align: center; vertical-align: top\">2438</td>\n",
       "        <td style=\"padding-left: 1em; padding-right: 1em; text-align: center; vertical-align: top\">0.41935483871</td>\n",
       "        <td style=\"padding-left: 1em; padding-right: 1em; text-align: center; vertical-align: top\">1</td>\n",
       "    </tr>\n",
       "    <tr>\n",
       "        <td style=\"padding-left: 1em; padding-right: 1em; text-align: center; vertical-align: top\">1</td>\n",
       "        <td style=\"padding-left: 1em; padding-right: 1em; text-align: center; vertical-align: top\">533</td>\n",
       "        <td style=\"padding-left: 1em; padding-right: 1em; text-align: center; vertical-align: top\">0.5</td>\n",
       "        <td style=\"padding-left: 1em; padding-right: 1em; text-align: center; vertical-align: top\">2</td>\n",
       "    </tr>\n",
       "    <tr>\n",
       "        <td style=\"padding-left: 1em; padding-right: 1em; text-align: center; vertical-align: top\">2</td>\n",
       "        <td style=\"padding-left: 1em; padding-right: 1em; text-align: center; vertical-align: top\">688</td>\n",
       "        <td style=\"padding-left: 1em; padding-right: 1em; text-align: center; vertical-align: top\">0.192307692308</td>\n",
       "        <td style=\"padding-left: 1em; padding-right: 1em; text-align: center; vertical-align: top\">1</td>\n",
       "    </tr>\n",
       "    <tr>\n",
       "        <td style=\"padding-left: 1em; padding-right: 1em; text-align: center; vertical-align: top\">3</td>\n",
       "        <td style=\"padding-left: 1em; padding-right: 1em; text-align: center; vertical-align: top\">2947</td>\n",
       "        <td style=\"padding-left: 1em; padding-right: 1em; text-align: center; vertical-align: top\">0.0454545454545</td>\n",
       "        <td style=\"padding-left: 1em; padding-right: 1em; text-align: center; vertical-align: top\">1</td>\n",
       "    </tr>\n",
       "    <tr>\n",
       "        <td style=\"padding-left: 1em; padding-right: 1em; text-align: center; vertical-align: top\">5</td>\n",
       "        <td style=\"padding-left: 1em; padding-right: 1em; text-align: center; vertical-align: top\">1705</td>\n",
       "        <td style=\"padding-left: 1em; padding-right: 1em; text-align: center; vertical-align: top\">0.047619047619</td>\n",
       "        <td style=\"padding-left: 1em; padding-right: 1em; text-align: center; vertical-align: top\">1</td>\n",
       "    </tr>\n",
       "</table>\n",
       "[5 rows x 4 columns]<br/>\n",
       "</div>"
      ],
      "text/plain": [
       "Columns:\n",
       "\tquery_label\tint\n",
       "\treference_label\tint\n",
       "\tdistance\tfloat\n",
       "\trank\tint\n",
       "\n",
       "Rows: 5\n",
       "\n",
       "Data:\n",
       "+-------------+-----------------+-----------------+------+\n",
       "| query_label | reference_label |     distance    | rank |\n",
       "+-------------+-----------------+-----------------+------+\n",
       "|      1      |       2438      |  0.41935483871  |  1   |\n",
       "|      1      |       533       |       0.5       |  2   |\n",
       "|      2      |       688       |  0.192307692308 |  1   |\n",
       "|      3      |       2947      | 0.0454545454545 |  1   |\n",
       "|      5      |       1705      |  0.047619047619 |  1   |\n",
       "+-------------+-----------------+-----------------+------+\n",
       "[5 rows x 4 columns]"
      ]
     },
     "execution_count": 26,
     "metadata": {},
     "output_type": "execute_result"
    }
   ],
   "source": [
    "# Investigate data matches \n",
    "matches = model.link(agent_listings, k=None, radius=0.5)\n",
    "matches.head(5)"
   ]
  },
  {
   "cell_type": "code",
   "execution_count": 27,
   "metadata": {
    "collapsed": false
   },
   "outputs": [
    {
     "name": "stdout",
     "output_type": "stream",
     "text": [
      "{'phone_number': '08 35547759', 'surname': 'sv', 'street_number': '329', 'age': 27, 'rec_id': 26695, 'suburb': 'smithfield plains', 'state': 'vic', 'date_of_birth': 19305324, 'given_name': 'irne', 'address_2': '', 'blocking_number': 8, 'soc_sec_id': 4201032, 'postcode': '5044', 'address_1': ''}\n",
      "{'suburb': 'smithfield plains', 'state': 'vic', 'address_1': 'sculptor street', 'street_number': '16', 'postcode': '5044'}\n"
     ]
    }
   ],
   "source": [
    "# Evaluate results \n",
    "# The results mean that the address in query row 1 match the address in refs row number 2438.\n",
    "# Although the Jaccard distance is relatively high at 0.42, manual inspection of data shows poor match.\n",
    "print agent_listings[1]\n",
    "print post_address[2438] "
   ]
  },
  {
   "cell_type": "code",
   "execution_count": 28,
   "metadata": {
    "collapsed": false
   },
   "outputs": [
    {
     "name": "stdout",
     "output_type": "stream",
     "text": [
      "{'phone_number': '04 87915906', 'surname': 'teaegzr', 'street_number': '15', 'age': 37, 'rec_id': 13886, 'suburb': 'kallangur', 'state': 'nss', 'date_of_birth': 19459057, 'given_name': 'tristran', 'address_2': '', 'blocking_number': 0, 'soc_sec_id': 6314427, 'postcode': '2506', 'address_1': 'mawalan street'}\n",
      "{'suburb': 'kallangur', 'state': 'nsw', 'address_1': 'mawalan street', 'street_number': '12', 'postcode': '2506'}\n"
     ]
    }
   ],
   "source": [
    "# Evaluate second case based on Jaccard distance \n",
    "print agent_listings[3]\n",
    "print post_address[2947]"
   ]
  },
  {
   "cell_type": "code",
   "execution_count": 30,
   "metadata": {
    "collapsed": false
   },
   "outputs": [
    {
     "name": "stdout",
     "output_type": "stream",
     "text": [
      "Defaulting to brute force instead of ball tree because there are multiple distance components.\n",
      "PROGRESS: Starting brute force nearest neighbors model training.\n",
      "Class                               : RecordLinker\n",
      "\n",
      "Schema\n",
      "------\n",
      "Number of examples                  : 3000\n",
      "Number of feature columns           : 5\n",
      "Number of distance components       : 2\n",
      "Method                              : brute_force\n",
      "\n",
      "Training\n",
      "--------\n",
      "Total training time (seconds)       : 0.3596\n",
      "\n"
     ]
    }
   ],
   "source": [
    "# Data still not a true match. Use Composite Distance function for improved matching.\n",
    "# See README for details of Composite Distance function, Levenshtein distance & Jaccard distance \n",
    "address_dist = [\n",
    "                 [['street_number'], 'levenshtein', 1],\n",
    "                 [address_features, 'jaccard', 1]\n",
    "                ]\n",
    "\n",
    "model2 = gl.record_linker.create(post_address, distance=address_dist)\n",
    "model2.summary()"
   ]
  },
  {
   "cell_type": "code",
   "execution_count": 31,
   "metadata": {
    "collapsed": false
   },
   "outputs": [
    {
     "data": {
      "text/plain": [
       "[[['street_number'], 'levenshtein', 1],\n",
       " [['street_number', 'address_1', 'suburb', 'state', 'postcode'], 'jaccard', 1]]"
      ]
     },
     "execution_count": 31,
     "metadata": {},
     "output_type": "execute_result"
    }
   ],
   "source": [
    "# Return model distance \n",
    "model2['distance']"
   ]
  },
  {
   "cell_type": "code",
   "execution_count": 32,
   "metadata": {
    "collapsed": false
   },
   "outputs": [
    {
     "name": "stdout",
     "output_type": "stream",
     "text": [
      "Canvas is accessible via web browser at the URL: http://localhost:49844/index.html\n",
      "Opening Canvas in default web browser.\n"
     ]
    }
   ],
   "source": [
    "# Query new model for a large number of neighbors \n",
    "pre_match = model2.link(agent_listings, k=10, verbose=False)\n",
    "pre_match['distance'].show()"
   ]
  },
  {
   "cell_type": "code",
   "execution_count": null,
   "metadata": {
    "collapsed": true
   },
   "outputs": [],
   "source": []
  }
 ],
 "metadata": {
  "kernelspec": {
   "display_name": "Python 2",
   "language": "python",
   "name": "python2"
  },
  "language_info": {
   "codemirror_mode": {
    "name": "ipython",
    "version": 2
   },
   "file_extension": ".py",
   "mimetype": "text/x-python",
   "name": "python",
   "nbconvert_exporter": "python",
   "pygments_lexer": "ipython2",
   "version": "2.7.11"
  }
 },
 "nbformat": 4,
 "nbformat_minor": 0
}
