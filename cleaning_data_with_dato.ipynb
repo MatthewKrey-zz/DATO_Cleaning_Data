{
 "cells": [
  {
   "cell_type": "code",
   "execution_count": 1,
   "metadata": {
    "collapsed": true
   },
   "outputs": [],
   "source": [
    "import os \n",
    "import graphlab as gl"
   ]
  },
  {
   "cell_type": "code",
   "execution_count": 2,
   "metadata": {
    "collapsed": false
   },
   "outputs": [
    {
     "name": "stderr",
     "output_type": "stream",
     "text": [
      "[INFO] This non-commercial license of GraphLab Create is assigned to matthew.krey@flatironschool.com and will expire on December 14, 2016. For commercial licensing options, visit https://dato.com/buy/.\n",
      "\n",
      "[INFO] Start server at: ipc:///tmp/graphlab_server-98274 - Server binary: /Users/matthewkrey/anaconda2/envs/dato-env/lib/python2.7/site-packages/graphlab/unity_server - Server log: /tmp/graphlab_server_1453589500.log\n",
      "[INFO] GraphLab Server Version: 1.8\n"
     ]
    },
    {
     "name": "stdout",
     "output_type": "stream",
     "text": [
      "PROGRESS: Downloading http://s3.amazonaws.com/dato-datasets/tag_lists/statistics_topics.csv to /var/tmp/graphlab-matthewkrey/98274/c3542e71-3588-4ad2-b243-be08d588f3c7.csv\n",
      "PROGRESS: Unable to parse line \"Generalized additive model for location, scale and shape\"\n",
      "PROGRESS: Unable to parse line \"Lies, damned lies, and statistics\"\n",
      "PROGRESS: 2 lines failed to parse correctly\n",
      "PROGRESS: Finished parsing file http://s3.amazonaws.com/dato-datasets/tag_lists/statistics_topics.csv\n",
      "PROGRESS: Parsing completed. Parsed 100 lines in 0.023869 secs.\n",
      "------------------------------------------------------\n",
      "Inferred types from first line of file as \n",
      "column_type_hints=[str]\n",
      "If parsing fails due to incorrect types, you can correct\n",
      "the inferred type list above and pass it to read_csv in\n",
      "the column_type_hints argument\n",
      "------------------------------------------------------\n",
      "PROGRESS: Unable to parse line \"Generalized additive model for location, scale and shape\"\n",
      "PROGRESS: Unable to parse line \"Lies, damned lies, and statistics\"\n",
      "PROGRESS: 2 lines failed to parse correctly\n",
      "PROGRESS: Finished parsing file http://s3.amazonaws.com/dato-datasets/tag_lists/statistics_topics.csv\n",
      "PROGRESS: Parsing completed. Parsed 2735 lines in 0.009445 secs.\n"
     ]
    }
   ],
   "source": [
    "# Read & Save data locally to avoid repeated downloads. \n",
    "if os.path.exists('statistics_topics.csv'):\n",
    "    stats_topics = gl.SFrame.read_csv('data/statistics_topics.csv', header=False)\n",
    "else:\n",
    "    stats_topics = gl.SFrame.read_csv('http://s3.amazonaws.com/dato-datasets/tag_lists/statistics_topics.csv', \n",
    "                                      header=False)\n",
    "    stats_topics.save('data/statistics_topics.csv', format='csv')\n",
    "    "
   ]
  },
  {
   "cell_type": "code",
   "execution_count": 3,
   "metadata": {
    "collapsed": false
   },
   "outputs": [
    {
     "data": {
      "text/html": [
       "<div style=\"max-height:1000px;max-width:1500px;overflow:auto;\"><table frame=\"box\" rules=\"cols\">\n",
       "    <tr>\n",
       "        <th style=\"padding-left: 1em; padding-right: 1em; text-align: center\">tag</th>\n",
       "    </tr>\n",
       "    <tr>\n",
       "        <td style=\"padding-left: 1em; padding-right: 1em; text-align: center; vertical-align: top\">z statistic</td>\n",
       "    </tr>\n",
       "    <tr>\n",
       "        <td style=\"padding-left: 1em; padding-right: 1em; text-align: center; vertical-align: top\">Z-test</td>\n",
       "    </tr>\n",
       "    <tr>\n",
       "        <td style=\"padding-left: 1em; padding-right: 1em; text-align: center; vertical-align: top\">Z-transform</td>\n",
       "    </tr>\n",
       "    <tr>\n",
       "        <td style=\"padding-left: 1em; padding-right: 1em; text-align: center; vertical-align: top\">Zakai equation</td>\n",
       "    </tr>\n",
       "    <tr>\n",
       "        <td style=\"padding-left: 1em; padding-right: 1em; text-align: center; vertical-align: top\">Zelen's design</td>\n",
       "    </tr>\n",
       "    <tr>\n",
       "        <td style=\"padding-left: 1em; padding-right: 1em; text-align: center; vertical-align: top\">Zero–one law</td>\n",
       "    </tr>\n",
       "    <tr>\n",
       "        <td style=\"padding-left: 1em; padding-right: 1em; text-align: center; vertical-align: top\">Zeta distribution</td>\n",
       "    </tr>\n",
       "    <tr>\n",
       "        <td style=\"padding-left: 1em; padding-right: 1em; text-align: center; vertical-align: top\">Ziggurat algorithm</td>\n",
       "    </tr>\n",
       "    <tr>\n",
       "        <td style=\"padding-left: 1em; padding-right: 1em; text-align: center; vertical-align: top\">Zipf–Mandelbrot law</td>\n",
       "    </tr>\n",
       "    <tr>\n",
       "        <td style=\"padding-left: 1em; padding-right: 1em; text-align: center; vertical-align: top\">Zipf's law</td>\n",
       "    </tr>\n",
       "</table>\n",
       "[10 rows x 1 columns]<br/>\n",
       "</div>"
      ],
      "text/plain": [
       "Columns:\n",
       "\ttag\tstr\n",
       "\n",
       "Rows: 10\n",
       "\n",
       "Data:\n",
       "+---------------------+\n",
       "|         tag         |\n",
       "+---------------------+\n",
       "|     z statistic     |\n",
       "|        Z-test       |\n",
       "|     Z-transform     |\n",
       "|    Zakai equation   |\n",
       "|    Zelen's design   |\n",
       "|     Zero–one law    |\n",
       "|  Zeta distribution  |\n",
       "|  Ziggurat algorithm |\n",
       "| Zipf–Mandelbrot law |\n",
       "|      Zipf's law     |\n",
       "+---------------------+\n",
       "[10 rows x 1 columns]"
      ]
     },
     "execution_count": 3,
     "metadata": {},
     "output_type": "execute_result"
    }
   ],
   "source": [
    "# See README for details and more info on these stats topics \n",
    "stats_topics = stats_topics.rename({'X1': 'tag'})\n",
    "stats_topics.tail(10)"
   ]
  },
  {
   "cell_type": "code",
   "execution_count": 4,
   "metadata": {
    "collapsed": false
   },
   "outputs": [
    {
     "name": "stdout",
     "output_type": "stream",
     "text": [
      "PROGRESS: Starting brute force nearest neighbors model training.\n"
     ]
    }
   ],
   "source": [
    "# Create Autotagger model. See README for details on Autotagger\n",
    "model = gl.autotagger.create(stats_topics)"
   ]
  },
  {
   "cell_type": "code",
   "execution_count": 5,
   "metadata": {
    "collapsed": false
   },
   "outputs": [
    {
     "data": {
      "text/plain": [
       "['distance',\n",
       " 'verbose',\n",
       " 'num_features',\n",
       " 'tag_name',\n",
       " 'training_time',\n",
       " 'num_examples',\n",
       " 'features']"
      ]
     },
     "execution_count": 5,
     "metadata": {},
     "output_type": "execute_result"
    }
   ],
   "source": [
    "model.list_fields()"
   ]
  },
  {
   "cell_type": "code",
   "execution_count": 6,
   "metadata": {
    "collapsed": true
   },
   "outputs": [],
   "source": [
    "# Run to find results of Autotagger model\n",
    "model.tag?"
   ]
  },
  {
   "cell_type": "code",
   "execution_count": 7,
   "metadata": {
    "collapsed": false
   },
   "outputs": [
    {
     "name": "stdout",
     "output_type": "stream",
     "text": [
      "PROGRESS: Downloading http://s3.amazonaws.com/dato-datasets/stats_overflow_clean/dir_archive.ini to /var/tmp/graphlab-matthewkrey/98274/4fc0cfa4-b263-4ffc-b545-99016a16e817.ini\n",
      "PROGRESS: Downloading http://s3.amazonaws.com/dato-datasets/stats_overflow_clean/objects.bin to /var/tmp/graphlab-matthewkrey/98274/e4eaa6fd-e863-4989-a714-a23463f36947.bin\n",
      "PROGRESS: Downloading http://s3.amazonaws.com/dato-datasets/stats_overflow_clean/m_ee1cef21c977f86a.frame_idx to /var/tmp/graphlab-matthewkrey/98274/ee5a8942-1769-4d9c-adeb-691325353707.frame_idx\n",
      "PROGRESS: Downloading http://s3.amazonaws.com/dato-datasets/stats_overflow_clean/m_ee1cef21c977f86a.sidx to /var/tmp/graphlab-matthewkrey/98274/6c29c1b7-6a6b-4c66-be4a-7704fd9e724f.sidx\n",
      "PROGRESS: Downloading http://s3.amazonaws.com/dato-datasets/stats_overflow_clean/m_ee1cef21c977f86a.0000 to /var/tmp/graphlab-matthewkrey/98274/c24f090e-c078-40b6-9f36-02f81b0893a4.0000\n",
      "PROGRESS: Downloading http://s3.amazonaws.com/dato-datasets/stats_overflow_clean/m_ee1cef21c977f86a.0001 to /var/tmp/graphlab-matthewkrey/98274/6ccba9f1-bf27-4eb0-a029-20bb31bd69b8.0001\n",
      "PROGRESS: Downloading http://s3.amazonaws.com/dato-datasets/stats_overflow_clean/m_ee1cef21c977f86a.0002 to /var/tmp/graphlab-matthewkrey/98274/d1a51e57-269a-4321-a20f-c8c736db53c3.0002\n",
      "PROGRESS: Downloading http://s3.amazonaws.com/dato-datasets/stats_overflow_clean/m_ee1cef21c977f86a.0003 to /var/tmp/graphlab-matthewkrey/98274/c7d67dc0-72e6-4bbd-aa7b-dd6825ea62e9.0003\n",
      "PROGRESS: Downloading http://s3.amazonaws.com/dato-datasets/stats_overflow_clean/m_ee1cef21c977f86a.0004 to /var/tmp/graphlab-matthewkrey/98274/b81f2edd-04e6-4a74-bd43-a3010ac082a9.0004\n",
      "PROGRESS: Downloading http://s3.amazonaws.com/dato-datasets/stats_overflow_clean/m_ee1cef21c977f86a.0005 to /var/tmp/graphlab-matthewkrey/98274/5ea230c3-b966-44c1-bf17-032b29a27ee6.0005\n",
      "PROGRESS: Downloading http://s3.amazonaws.com/dato-datasets/stats_overflow_clean/m_ee1cef21c977f86a.0006 to /var/tmp/graphlab-matthewkrey/98274/2cdc19dc-bd66-47ad-819e-1bad02a5ef51.0006\n",
      "PROGRESS: Downloading http://s3.amazonaws.com/dato-datasets/stats_overflow_clean/m_ee1cef21c977f86a.0007 to /var/tmp/graphlab-matthewkrey/98274/168c0bd8-8a50-4238-87b1-7336c1071521.0007\n"
     ]
    }
   ],
   "source": [
    "# Read in document data \n",
    "if os.path.exists('stats_overflow_clean'):\n",
    "    posts = gl.SFrame('stats_overflow_clean')\n",
    "else:\n",
    "    posts = gl.SFrame('http://s3.amazonaws.com/dato-datasets/stats_overflow_clean')\n",
    "    posts.save('data/stats_overflow_clean')"
   ]
  },
  {
   "cell_type": "code",
   "execution_count": 8,
   "metadata": {
    "collapsed": false
   },
   "outputs": [
    {
     "name": "stdout",
     "output_type": "stream",
     "text": [
      "Number of posts: 11077\n"
     ]
    },
    {
     "data": {
      "text/html": [
       "<div style=\"max-height:1000px;max-width:1500px;overflow:auto;\"><table frame=\"box\" rules=\"cols\">\n",
       "    <tr>\n",
       "        <th style=\"padding-left: 1em; padding-right: 1em; text-align: center\">Body</th>\n",
       "        <th style=\"padding-left: 1em; padding-right: 1em; text-align: center\">Title</th>\n",
       "        <th style=\"padding-left: 1em; padding-right: 1em; text-align: center\">PostTypeId</th>\n",
       "        <th style=\"padding-left: 1em; padding-right: 1em; text-align: center\">Tags</th>\n",
       "    </tr>\n",
       "    <tr>\n",
       "        <td style=\"padding-left: 1em; padding-right: 1em; text-align: center; vertical-align: top\">This grew too long for a<br>comment, but I think ...</td>\n",
       "        <td style=\"padding-left: 1em; padding-right: 1em; text-align: center; vertical-align: top\">None</td>\n",
       "        <td style=\"padding-left: 1em; padding-right: 1em; text-align: center; vertical-align: top\">2</td>\n",
       "        <td style=\"padding-left: 1em; padding-right: 1em; text-align: center; vertical-align: top\">None</td>\n",
       "    </tr>\n",
       "    <tr>\n",
       "        <td style=\"padding-left: 1em; padding-right: 1em; text-align: center; vertical-align: top\">Assume a classification<br>problem where there are ...</td>\n",
       "        <td style=\"padding-left: 1em; padding-right: 1em; text-align: center; vertical-align: top\">Detecting a consistent<br>pattern in a dataset via ...</td>\n",
       "        <td style=\"padding-left: 1em; padding-right: 1em; text-align: center; vertical-align: top\">1</td>\n",
       "        <td style=\"padding-left: 1em; padding-right: 1em; text-align: center; vertical-align: top\">&lt;classification&gt;&lt;cross-<br>validation&gt;&lt;decision- ...</td>\n",
       "    </tr>\n",
       "    <tr>\n",
       "        <td style=\"padding-left: 1em; padding-right: 1em; text-align: center; vertical-align: top\">My goal is to create a<br>formula that can give an ...</td>\n",
       "        <td style=\"padding-left: 1em; padding-right: 1em; text-align: center; vertical-align: top\">How to project video<br>viewcount based on ...</td>\n",
       "        <td style=\"padding-left: 1em; padding-right: 1em; text-align: center; vertical-align: top\">1</td>\n",
       "        <td style=\"padding-left: 1em; padding-right: 1em; text-align: center; vertical-align: top\">&lt;summary-statistics&gt;&lt;medi<br>an&gt;&lt;eviews&gt; ...</td>\n",
       "    </tr>\n",
       "    <tr>\n",
       "        <td style=\"padding-left: 1em; padding-right: 1em; text-align: center; vertical-align: top\">As a practical answer to<br>the real questions yo ...</td>\n",
       "        <td style=\"padding-left: 1em; padding-right: 1em; text-align: center; vertical-align: top\">None</td>\n",
       "        <td style=\"padding-left: 1em; padding-right: 1em; text-align: center; vertical-align: top\">2</td>\n",
       "        <td style=\"padding-left: 1em; padding-right: 1em; text-align: center; vertical-align: top\">None</td>\n",
       "    </tr>\n",
       "    <tr>\n",
       "        <td style=\"padding-left: 1em; padding-right: 1em; text-align: center; vertical-align: top\">Decision trees are<br>notoriously &lt;strong&gt;u ...</td>\n",
       "        <td style=\"padding-left: 1em; padding-right: 1em; text-align: center; vertical-align: top\">None</td>\n",
       "        <td style=\"padding-left: 1em; padding-right: 1em; text-align: center; vertical-align: top\">2</td>\n",
       "        <td style=\"padding-left: 1em; padding-right: 1em; text-align: center; vertical-align: top\">None</td>\n",
       "    </tr>\n",
       "</table>\n",
       "[5 rows x 4 columns]<br/>\n",
       "</div>"
      ],
      "text/plain": [
       "Columns:\n",
       "\tBody\tstr\n",
       "\tTitle\tstr\n",
       "\tPostTypeId\tstr\n",
       "\tTags\tstr\n",
       "\n",
       "Rows: 5\n",
       "\n",
       "Data:\n",
       "+-------------------------------+-------------------------------+------------+\n",
       "|              Body             |             Title             | PostTypeId |\n",
       "+-------------------------------+-------------------------------+------------+\n",
       "| This grew too long for a c... |              None             |     2      |\n",
       "| Assume a classification pr... | Detecting a consistent pat... |     1      |\n",
       "| My goal is to create a for... | How to project video viewc... |     1      |\n",
       "| As a practical answer to t... |              None             |     2      |\n",
       "| Decision trees are notorio... |              None             |     2      |\n",
       "+-------------------------------+-------------------------------+------------+\n",
       "+-------------------------------+\n",
       "|              Tags             |\n",
       "+-------------------------------+\n",
       "|              None             |\n",
       "| <classification><cross-val... |\n",
       "| <summary-statistics><media... |\n",
       "|              None             |\n",
       "|              None             |\n",
       "+-------------------------------+\n",
       "[5 rows x 4 columns]"
      ]
     },
     "execution_count": 8,
     "metadata": {},
     "output_type": "execute_result"
    }
   ],
   "source": [
    "print \"Number of posts:\", posts.num_rows()\n",
    "posts[['Body', 'Title', 'PostTypeId', 'Tags']].tail(5)"
   ]
  },
  {
   "cell_type": "code",
   "execution_count": 10,
   "metadata": {
    "collapsed": false
   },
   "outputs": [],
   "source": [
    "posts['doc'] = posts['Title'] + ' ' + posts['Body']"
   ]
  },
  {
   "cell_type": "code",
   "execution_count": 11,
   "metadata": {
    "collapsed": false
   },
   "outputs": [
    {
     "name": "stdout",
     "output_type": "stream",
     "text": [
      "PROGRESS: Starting pairwise querying.\n",
      "PROGRESS: +--------------+---------+-------------+--------------+\n",
      "PROGRESS: | Query points | # Pairs | % Complete. | Elapsed Time |\n",
      "PROGRESS: +--------------+---------+-------------+--------------+\n",
      "PROGRESS: | 0            | 692     | 0.00228834  | 35.515ms     |\n",
      "PROGRESS: | 4153         | 1.1e+07 | 37.4944     | 1.05s        |\n",
      "PROGRESS: | 8612         | 2.4e+07 | 77.7524     | 2.04s        |\n",
      "PROGRESS: | Done         |         | 100         | 2.59s        |\n",
      "PROGRESS: +--------------+---------+-------------+--------------+\n"
     ]
    }
   ],
   "source": [
    "# Query Autotagger Model\n",
    "tags = model.tag(posts, query_name='doc', k=5, similarity_threshold=0.1)"
   ]
  },
  {
   "cell_type": "code",
   "execution_count": 12,
   "metadata": {
    "collapsed": false
   },
   "outputs": [
    {
     "name": "stdout",
     "output_type": "stream",
     "text": [
      "+--------+-----------------------------------------+-----------------------------------------+----------------+\n",
      "| doc_id |                   doc                   |                   tag                   |     score      |\n",
      "+--------+-----------------------------------------+-----------------------------------------+----------------+\n",
      "|   13   | neural network output layer for bina... |          Binary classification          | 0.15503875969  |\n",
      "|   13   | neural network output layer for bina... |        Artificial neural network        | 0.107913669065 |\n",
      "|   13   | neural network output layer for bina... |         One-class classification        | 0.101449275362 |\n",
      "|   13   | neural network output layer for bina... |              Neural network             | 0.100775193798 |\n",
      "|   13   | neural network output layer for bina... |        Multiclass classification        | 0.10071942446  |\n",
      "|   37   | Negative predictions for binomial pr... |        Negative predictive value        | 0.104712041885 |\n",
      "|   55   | Estimating entropy of multidimension... |           Dimension reduction           | 0.101123595506 |\n",
      "|   80   | Does the sequence satisfy WLLN? Coul... |           Law of large numbers          | 0.197916666667 |\n",
      "|   80   | Does the sequence satisfy WLLN? Coul... | Independent and identically distribu... | 0.186046511628 |\n",
      "|   80   | Does the sequence satisfy WLLN? Coul... |     Convergence of random variables     | 0.177570093458 |\n",
      "+--------+-----------------------------------------+-----------------------------------------+----------------+\n",
      "[1355 rows x 4 columns]\n",
      "\n"
     ]
    }
   ],
   "source": [
    "# Print query results\n",
    "tags.print_rows(10, max_row_width=110, max_column_width=40)"
   ]
  },
  {
   "cell_type": "code",
   "execution_count": 20,
   "metadata": {
    "collapsed": false
   },
   "outputs": [
    {
     "name": "stdout",
     "output_type": "stream",
     "text": [
      "PROGRESS: Downloading http://s3.amazonaws.com/dato-datasets/febrl_synthetic/febrl_F_org_5000.csv to /var/tmp/graphlab-matthewkrey/98274/e18d271e-733d-43f0-a56f-6115d789de98.csv\n",
      "PROGRESS: Finished parsing file http://s3.amazonaws.com/dato-datasets/febrl_synthetic/febrl_F_org_5000.csv\n",
      "PROGRESS: Parsing completed. Parsed 100 lines in 0.034027 secs.\n",
      "PROGRESS: Finished parsing file http://s3.amazonaws.com/dato-datasets/febrl_synthetic/febrl_F_org_5000.csv\n",
      "PROGRESS: Parsing completed. Parsed 3000 lines in 0.016802 secs.\n"
     ]
    }
   ],
   "source": [
    "# Record linkage of house listings using hypothetical real estate data \n",
    "col_types = {'street_number': str, 'postcode': str}\n",
    "address_features = ['street_number', 'address_1', 'suburb', 'state', 'postcode']\n",
    "\n",
    "if os.path.exists('febrl_F_org_5000.csv'):\n",
    "    post_address = gl.SFrame.read_csv('data/febrl_F_org_5000.csv', column_type_hints=col_types)\n",
    "else:\n",
    "    url = 'http://s3.amazonaws.com/dato-datasets/febrl_synthetic/febrl_F_org_5000.csv'\n",
    "    post_address = gl.SFrame.read_csv(url, column_type_hints=col_types)\n",
    "    post_address.save('data/febrl_F_org_5000.csv')"
   ]
  },
  {
   "cell_type": "code",
   "execution_count": null,
   "metadata": {
    "collapsed": true
   },
   "outputs": [],
   "source": []
  }
 ],
 "metadata": {
  "kernelspec": {
   "display_name": "Python 2",
   "language": "python",
   "name": "python2"
  },
  "language_info": {
   "codemirror_mode": {
    "name": "ipython",
    "version": 2
   },
   "file_extension": ".py",
   "mimetype": "text/x-python",
   "name": "python",
   "nbconvert_exporter": "python",
   "pygments_lexer": "ipython2",
   "version": "2.7.11"
  }
 },
 "nbformat": 4,
 "nbformat_minor": 0
}
