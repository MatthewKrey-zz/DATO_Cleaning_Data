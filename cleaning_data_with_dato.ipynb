{
 "cells": [
  {
   "cell_type": "code",
   "execution_count": 1,
   "metadata": {
    "collapsed": true
   },
   "outputs": [],
   "source": [
    "import os \n",
    "import graphlab as gl"
   ]
  },
  {
   "cell_type": "code",
   "execution_count": 2,
   "metadata": {
    "collapsed": false
   },
   "outputs": [
    {
     "name": "stderr",
     "output_type": "stream",
     "text": [
      "[INFO] This non-commercial license of GraphLab Create is assigned to matthew.krey@flatironschool.com and will expire on December 14, 2016. For commercial licensing options, visit https://dato.com/buy/.\n",
      "\n",
      "[INFO] Start server at: ipc:///tmp/graphlab_server-98274 - Server binary: /Users/matthewkrey/anaconda2/envs/dato-env/lib/python2.7/site-packages/graphlab/unity_server - Server log: /tmp/graphlab_server_1453589500.log\n",
      "[INFO] GraphLab Server Version: 1.8\n"
     ]
    },
    {
     "name": "stdout",
     "output_type": "stream",
     "text": [
      "PROGRESS: Downloading http://s3.amazonaws.com/dato-datasets/tag_lists/statistics_topics.csv to /var/tmp/graphlab-matthewkrey/98274/c3542e71-3588-4ad2-b243-be08d588f3c7.csv\n",
      "PROGRESS: Unable to parse line \"Generalized additive model for location, scale and shape\"\n",
      "PROGRESS: Unable to parse line \"Lies, damned lies, and statistics\"\n",
      "PROGRESS: 2 lines failed to parse correctly\n",
      "PROGRESS: Finished parsing file http://s3.amazonaws.com/dato-datasets/tag_lists/statistics_topics.csv\n",
      "PROGRESS: Parsing completed. Parsed 100 lines in 0.023869 secs.\n",
      "------------------------------------------------------\n",
      "Inferred types from first line of file as \n",
      "column_type_hints=[str]\n",
      "If parsing fails due to incorrect types, you can correct\n",
      "the inferred type list above and pass it to read_csv in\n",
      "the column_type_hints argument\n",
      "------------------------------------------------------\n",
      "PROGRESS: Unable to parse line \"Generalized additive model for location, scale and shape\"\n",
      "PROGRESS: Unable to parse line \"Lies, damned lies, and statistics\"\n",
      "PROGRESS: 2 lines failed to parse correctly\n",
      "PROGRESS: Finished parsing file http://s3.amazonaws.com/dato-datasets/tag_lists/statistics_topics.csv\n",
      "PROGRESS: Parsing completed. Parsed 2735 lines in 0.009445 secs.\n"
     ]
    }
   ],
   "source": [
    "# Read & Save data locally to avoid repeated downloads. \n",
    "if os.path.exists('statistics_topics.csv'):\n",
    "    stats_topics = gl.SFrame.read_csv('data/statistics_topics.csv', header=False)\n",
    "else:\n",
    "    stats_topics = gl.SFrame.read_csv('http://s3.amazonaws.com/dato-datasets/tag_lists/statistics_topics.csv', \n",
    "                                      header=False)\n",
    "    stats_topics.save('data/statistics_topics.csv', format='csv')\n",
    "    "
   ]
  },
  {
   "cell_type": "code",
   "execution_count": 3,
   "metadata": {
    "collapsed": false
   },
   "outputs": [
    {
     "data": {
      "text/html": [
       "<div style=\"max-height:1000px;max-width:1500px;overflow:auto;\"><table frame=\"box\" rules=\"cols\">\n",
       "    <tr>\n",
       "        <th style=\"padding-left: 1em; padding-right: 1em; text-align: center\">tag</th>\n",
       "    </tr>\n",
       "    <tr>\n",
       "        <td style=\"padding-left: 1em; padding-right: 1em; text-align: center; vertical-align: top\">z statistic</td>\n",
       "    </tr>\n",
       "    <tr>\n",
       "        <td style=\"padding-left: 1em; padding-right: 1em; text-align: center; vertical-align: top\">Z-test</td>\n",
       "    </tr>\n",
       "    <tr>\n",
       "        <td style=\"padding-left: 1em; padding-right: 1em; text-align: center; vertical-align: top\">Z-transform</td>\n",
       "    </tr>\n",
       "    <tr>\n",
       "        <td style=\"padding-left: 1em; padding-right: 1em; text-align: center; vertical-align: top\">Zakai equation</td>\n",
       "    </tr>\n",
       "    <tr>\n",
       "        <td style=\"padding-left: 1em; padding-right: 1em; text-align: center; vertical-align: top\">Zelen's design</td>\n",
       "    </tr>\n",
       "    <tr>\n",
       "        <td style=\"padding-left: 1em; padding-right: 1em; text-align: center; vertical-align: top\">Zero–one law</td>\n",
       "    </tr>\n",
       "    <tr>\n",
       "        <td style=\"padding-left: 1em; padding-right: 1em; text-align: center; vertical-align: top\">Zeta distribution</td>\n",
       "    </tr>\n",
       "    <tr>\n",
       "        <td style=\"padding-left: 1em; padding-right: 1em; text-align: center; vertical-align: top\">Ziggurat algorithm</td>\n",
       "    </tr>\n",
       "    <tr>\n",
       "        <td style=\"padding-left: 1em; padding-right: 1em; text-align: center; vertical-align: top\">Zipf–Mandelbrot law</td>\n",
       "    </tr>\n",
       "    <tr>\n",
       "        <td style=\"padding-left: 1em; padding-right: 1em; text-align: center; vertical-align: top\">Zipf's law</td>\n",
       "    </tr>\n",
       "</table>\n",
       "[10 rows x 1 columns]<br/>\n",
       "</div>"
      ],
      "text/plain": [
       "Columns:\n",
       "\ttag\tstr\n",
       "\n",
       "Rows: 10\n",
       "\n",
       "Data:\n",
       "+---------------------+\n",
       "|         tag         |\n",
       "+---------------------+\n",
       "|     z statistic     |\n",
       "|        Z-test       |\n",
       "|     Z-transform     |\n",
       "|    Zakai equation   |\n",
       "|    Zelen's design   |\n",
       "|     Zero–one law    |\n",
       "|  Zeta distribution  |\n",
       "|  Ziggurat algorithm |\n",
       "| Zipf–Mandelbrot law |\n",
       "|      Zipf's law     |\n",
       "+---------------------+\n",
       "[10 rows x 1 columns]"
      ]
     },
     "execution_count": 3,
     "metadata": {},
     "output_type": "execute_result"
    }
   ],
   "source": [
    "# See README for details and more info on these stats topics \n",
    "stats_topics = stats_topics.rename({'X1': 'tag'})\n",
    "stats_topics.tail(10)"
   ]
  },
  {
   "cell_type": "code",
   "execution_count": 4,
   "metadata": {
    "collapsed": false
   },
   "outputs": [
    {
     "name": "stdout",
     "output_type": "stream",
     "text": [
      "PROGRESS: Starting brute force nearest neighbors model training.\n"
     ]
    }
   ],
   "source": [
    "# Create Autotagger model. See README for details on Autotagger\n",
    "model = gl.autotagger.create(stats_topics)"
   ]
  },
  {
   "cell_type": "code",
   "execution_count": 5,
   "metadata": {
    "collapsed": false
   },
   "outputs": [
    {
     "data": {
      "text/plain": [
       "['distance',\n",
       " 'verbose',\n",
       " 'num_features',\n",
       " 'tag_name',\n",
       " 'training_time',\n",
       " 'num_examples',\n",
       " 'features']"
      ]
     },
     "execution_count": 5,
     "metadata": {},
     "output_type": "execute_result"
    }
   ],
   "source": [
    "model.list_fields()"
   ]
  },
  {
   "cell_type": "code",
   "execution_count": 6,
   "metadata": {
    "collapsed": true
   },
   "outputs": [],
   "source": [
    "# Run to find results of Autotagger model\n",
    "model.tag?"
   ]
  },
  {
   "cell_type": "code",
   "execution_count": 7,
   "metadata": {
    "collapsed": false
   },
   "outputs": [
    {
     "name": "stdout",
     "output_type": "stream",
     "text": [
      "PROGRESS: Downloading http://s3.amazonaws.com/dato-datasets/stats_overflow_clean/dir_archive.ini to /var/tmp/graphlab-matthewkrey/98274/4fc0cfa4-b263-4ffc-b545-99016a16e817.ini\n",
      "PROGRESS: Downloading http://s3.amazonaws.com/dato-datasets/stats_overflow_clean/objects.bin to /var/tmp/graphlab-matthewkrey/98274/e4eaa6fd-e863-4989-a714-a23463f36947.bin\n",
      "PROGRESS: Downloading http://s3.amazonaws.com/dato-datasets/stats_overflow_clean/m_ee1cef21c977f86a.frame_idx to /var/tmp/graphlab-matthewkrey/98274/ee5a8942-1769-4d9c-adeb-691325353707.frame_idx\n",
      "PROGRESS: Downloading http://s3.amazonaws.com/dato-datasets/stats_overflow_clean/m_ee1cef21c977f86a.sidx to /var/tmp/graphlab-matthewkrey/98274/6c29c1b7-6a6b-4c66-be4a-7704fd9e724f.sidx\n",
      "PROGRESS: Downloading http://s3.amazonaws.com/dato-datasets/stats_overflow_clean/m_ee1cef21c977f86a.0000 to /var/tmp/graphlab-matthewkrey/98274/c24f090e-c078-40b6-9f36-02f81b0893a4.0000\n",
      "PROGRESS: Downloading http://s3.amazonaws.com/dato-datasets/stats_overflow_clean/m_ee1cef21c977f86a.0001 to /var/tmp/graphlab-matthewkrey/98274/6ccba9f1-bf27-4eb0-a029-20bb31bd69b8.0001\n",
      "PROGRESS: Downloading http://s3.amazonaws.com/dato-datasets/stats_overflow_clean/m_ee1cef21c977f86a.0002 to /var/tmp/graphlab-matthewkrey/98274/d1a51e57-269a-4321-a20f-c8c736db53c3.0002\n",
      "PROGRESS: Downloading http://s3.amazonaws.com/dato-datasets/stats_overflow_clean/m_ee1cef21c977f86a.0003 to /var/tmp/graphlab-matthewkrey/98274/c7d67dc0-72e6-4bbd-aa7b-dd6825ea62e9.0003\n",
      "PROGRESS: Downloading http://s3.amazonaws.com/dato-datasets/stats_overflow_clean/m_ee1cef21c977f86a.0004 to /var/tmp/graphlab-matthewkrey/98274/b81f2edd-04e6-4a74-bd43-a3010ac082a9.0004\n",
      "PROGRESS: Downloading http://s3.amazonaws.com/dato-datasets/stats_overflow_clean/m_ee1cef21c977f86a.0005 to /var/tmp/graphlab-matthewkrey/98274/5ea230c3-b966-44c1-bf17-032b29a27ee6.0005\n",
      "PROGRESS: Downloading http://s3.amazonaws.com/dato-datasets/stats_overflow_clean/m_ee1cef21c977f86a.0006 to /var/tmp/graphlab-matthewkrey/98274/2cdc19dc-bd66-47ad-819e-1bad02a5ef51.0006\n",
      "PROGRESS: Downloading http://s3.amazonaws.com/dato-datasets/stats_overflow_clean/m_ee1cef21c977f86a.0007 to /var/tmp/graphlab-matthewkrey/98274/168c0bd8-8a50-4238-87b1-7336c1071521.0007\n"
     ]
    }
   ],
   "source": [
    "# Read in document data \n",
    "if os.path.exists('stats_overflow_clean'):\n",
    "    posts = gl.SFrame('stats_overflow_clean')\n",
    "else:\n",
    "    posts = gl.SFrame('http://s3.amazonaws.com/dato-datasets/stats_overflow_clean')\n",
    "    posts.save('data/stats_overflow_clean')"
   ]
  },
  {
   "cell_type": "code",
   "execution_count": null,
   "metadata": {
    "collapsed": true
   },
   "outputs": [],
   "source": []
  }
 ],
 "metadata": {
  "kernelspec": {
   "display_name": "Python 2",
   "language": "python",
   "name": "python2"
  },
  "language_info": {
   "codemirror_mode": {
    "name": "ipython",
    "version": 2
   },
   "file_extension": ".py",
   "mimetype": "text/x-python",
   "name": "python",
   "nbconvert_exporter": "python",
   "pygments_lexer": "ipython2",
   "version": "2.7.11"
  }
 },
 "nbformat": 4,
 "nbformat_minor": 0
}
